{
 "cells": [
  {
   "cell_type": "code",
   "execution_count": 14,
   "id": "ec1de8b0",
   "metadata": {},
   "outputs": [],
   "source": [
    "#List of high schools\n",
    "high_schools = [\"Huang High School\", \"Figeroa High School\", \"Shelton High\"]"
   ]
  },
  {
   "cell_type": "code",
   "execution_count": 15,
   "id": "3bfcde71",
   "metadata": {},
   "outputs": [],
   "source": [
    "#Add the Pandas Dependency\n",
    "import pandas as pd"
   ]
  },
  {
   "cell_type": "code",
   "execution_count": null,
   "id": "1ecf1159",
   "metadata": {},
   "outputs": [],
   "source": []
  },
  {
   "cell_type": "code",
   "execution_count": 16,
   "id": "26760f76",
   "metadata": {},
   "outputs": [
    {
     "data": {
      "text/plain": [
       "0      Huang High School\n",
       "1    Figeroa High School\n",
       "2           Shelton High\n",
       "dtype: object"
      ]
     },
     "execution_count": 16,
     "metadata": {},
     "output_type": "execute_result"
    }
   ],
   "source": [
    "# Create a Pandad Series from a list.\n",
    "school_series = pd.Series(high_schools)\n",
    "school_series"
   ]
  },
  {
   "cell_type": "code",
   "execution_count": 28,
   "id": "c9219115",
   "metadata": {},
   "outputs": [],
   "source": [
    "#Add the Pandas Dependency\n",
    "import pandas as pd"
   ]
  },
  {
   "cell_type": "code",
   "execution_count": 32,
   "id": "39dfd60d",
   "metadata": {},
   "outputs": [],
   "source": [
    "#A dictionary of high schools\n",
    "high_schools_dicts = [{\"School ID\" : 0, \"school name\": \"Huang High School\"},\n",
    "                    {\"School ID\" : 1, \"school name\": \"Figueroa High School\"}, \n",
    "                     {\"School ID\" : 2, \"school name\": \"Shelton High School\"},\n",
    "                      {\"School ID\" : 3, \"school name\": \"Hernandez High School},\n",
    "                      {\"School ID\" : 4, \"school name\": \"Griffin High School\"}] \n",
    "\n",
    "                       "
   ]
  },
  {
   "cell_type": "code",
   "execution_count": 33,
   "id": "f9a0f64a",
   "metadata": {},
   "outputs": [
    {
     "data": {
      "text/html": [
       "<div>\n",
       "<style scoped>\n",
       "    .dataframe tbody tr th:only-of-type {\n",
       "        vertical-align: middle;\n",
       "    }\n",
       "\n",
       "    .dataframe tbody tr th {\n",
       "        vertical-align: top;\n",
       "    }\n",
       "\n",
       "    .dataframe thead th {\n",
       "        text-align: right;\n",
       "    }\n",
       "</style>\n",
       "<table border=\"1\" class=\"dataframe\">\n",
       "  <thead>\n",
       "    <tr style=\"text-align: right;\">\n",
       "      <th></th>\n",
       "      <th>School ID</th>\n",
       "      <th>school name</th>\n",
       "    </tr>\n",
       "  </thead>\n",
       "  <tbody>\n",
       "    <tr>\n",
       "      <th>0</th>\n",
       "      <td>0</td>\n",
       "      <td>Huang High School</td>\n",
       "    </tr>\n",
       "    <tr>\n",
       "      <th>1</th>\n",
       "      <td>1</td>\n",
       "      <td>Figueroa High School</td>\n",
       "    </tr>\n",
       "    <tr>\n",
       "      <th>2</th>\n",
       "      <td>2</td>\n",
       "      <td>Shelton High School</td>\n",
       "    </tr>\n",
       "    <tr>\n",
       "      <th>3</th>\n",
       "      <td>3</td>\n",
       "      <td>Hernandez High School</td>\n",
       "    </tr>\n",
       "    <tr>\n",
       "      <th>4</th>\n",
       "      <td>4</td>\n",
       "      <td>Griffin High School</td>\n",
       "    </tr>\n",
       "  </tbody>\n",
       "</table>\n",
       "</div>"
      ],
      "text/plain": [
       "   School ID            school name\n",
       "0          0      Huang High School\n",
       "1          1   Figueroa High School\n",
       "2          2    Shelton High School\n",
       "3          3  Hernandez High School\n",
       "4          4    Griffin High School"
      ]
     },
     "execution_count": 33,
     "metadata": {},
     "output_type": "execute_result"
    }
   ],
   "source": [
    "school_df = pd.DataFrame(high_schools_dicts)\n",
    "school_df"
   ]
  },
  {
   "cell_type": "code",
   "execution_count": null,
   "id": "5540515d",
   "metadata": {},
   "outputs": [],
   "source": [
    "#Three seperate lists of information on high schools\n",
    "school_id = [0,1,2,3,4]\n",
    "\n",
    "school_names = [\"Huang High School\", \"Figeroa High School\", \"Shelton High\",\"Hernandez High School\", \"Griffin High School\"]\n",
    "\n",
    "types_of_school = [\"District\", \"District\",\"Charter\", \"Distritct\", \"Charter\"]"
   ]
  },
  {
   "cell_type": "code",
   "execution_count": null,
   "id": "1ab4d27d",
   "metadata": {},
   "outputs": [],
   "source": [
    "#Initialize a new Dateframe\n",
    "school_df = pd.DataFrame()\n"
   ]
  },
  {
   "cell_type": "code",
   "execution_count": 34,
   "id": "64213e6d",
   "metadata": {},
   "outputs": [
    {
     "ename": "NameError",
     "evalue": "name 'school_id' is not defined",
     "output_type": "error",
     "traceback": [
      "\u001b[1;31m---------------------------------------------------------------------------\u001b[0m",
      "\u001b[1;31mNameError\u001b[0m                                 Traceback (most recent call last)",
      "\u001b[1;32mC:\\Users\\tisla\\AppData\\Local\\Temp/ipykernel_10200/766323498.py\u001b[0m in \u001b[0;36m<module>\u001b[1;34m\u001b[0m\n\u001b[0;32m      1\u001b[0m \u001b[1;31m#Add the list to a new Dateframe\u001b[0m\u001b[1;33m\u001b[0m\u001b[1;33m\u001b[0m\u001b[1;33m\u001b[0m\u001b[0m\n\u001b[1;32m----> 2\u001b[1;33m \u001b[0mschool_df\u001b[0m\u001b[1;33m[\u001b[0m\u001b[1;34m\"School\"\u001b[0m\u001b[1;33m]\u001b[0m \u001b[1;33m=\u001b[0m \u001b[0mschool_id\u001b[0m\u001b[1;33m\u001b[0m\u001b[1;33m\u001b[0m\u001b[0m\n\u001b[0m\u001b[0;32m      3\u001b[0m \u001b[0mschool_df\u001b[0m\u001b[1;33m[\u001b[0m\u001b[1;34m\"School Name\"\u001b[0m\u001b[1;33m]\u001b[0m \u001b[1;33m=\u001b[0m \u001b[0mschool_name\u001b[0m\u001b[1;33m\u001b[0m\u001b[1;33m\u001b[0m\u001b[0m\n\u001b[0;32m      4\u001b[0m \u001b[0mschool_df\u001b[0m\u001b[1;33m[\u001b[0m\u001b[1;34m\"Type\"\u001b[0m\u001b[1;33m]\u001b[0m \u001b[1;33m=\u001b[0m \u001b[0mtype_school\u001b[0m\u001b[1;33m\u001b[0m\u001b[1;33m\u001b[0m\u001b[0m\n\u001b[0;32m      5\u001b[0m \u001b[1;33m\u001b[0m\u001b[0m\n",
      "\u001b[1;31mNameError\u001b[0m: name 'school_id' is not defined"
     ]
    }
   ],
   "source": [
    "#Add the list to a new Dateframe\n",
    "school_df[\"School\"] = school_id\n",
    "school_df[\"School Name\"] = school_name\n",
    "school_df[\"Type\"] = type_school\n",
    "\n",
    "#Print the DataFrame\n",
    "school_df\n"
   ]
  },
  {
   "cell_type": "code",
   "execution_count": null,
   "id": "6a41d7b0",
   "metadata": {},
   "outputs": [],
   "source": []
  }
 ],
 "metadata": {
  "kernelspec": {
   "display_name": "Python 3 (ipykernel)",
   "language": "python",
   "name": "python3"
  },
  "language_info": {
   "codemirror_mode": {
    "name": "ipython",
    "version": 3
   },
   "file_extension": ".py",
   "mimetype": "text/x-python",
   "name": "python",
   "nbconvert_exporter": "python",
   "pygments_lexer": "ipython3",
   "version": "3.7.11"
  }
 },
 "nbformat": 4,
 "nbformat_minor": 5
}
